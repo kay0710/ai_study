{
 "cells": [
  {
   "cell_type": "markdown",
   "metadata": {},
   "source": [
    "# MSE (Ft.SSE)"
   ]
  },
  {
   "cell_type": "code",
   "execution_count": null,
   "metadata": {},
   "outputs": [],
   "source": [
    "import numpy as np\n",
    "\n",
    "def MSE(target, pred):\n",
    "    return (1/len(target)) * np.sum((target - pred)**2)\n",
    "\n",
    "def SSE(target, pred):\n",
    "    return (0.5) * np.sum((target - pred)**2)\n",
    "\n",
    "def data_maker(data_len, index):\n",
    "    label = np.zeros((data_len,))\n",
    "    pred = np.full((data_len,), 0.05)\n",
    "    \n",
    "    label[index] = 1\n",
    "    pred[index] = 0.8\n",
    "    \n",
    "    return label, pred\n",
    "\n",
    "label1, pred1 = data_maker(100, 30)\n",
    "label2, pred2 = data_maker(10000, 30)"
   ]
  },
  {
   "cell_type": "code",
   "execution_count": null,
   "metadata": {},
   "outputs": [],
   "source": [
    "label1"
   ]
  },
  {
   "cell_type": "code",
   "execution_count": null,
   "metadata": {},
   "outputs": [],
   "source": [
    "pred1"
   ]
  },
  {
   "cell_type": "code",
   "execution_count": null,
   "metadata": {},
   "outputs": [],
   "source": [
    "print(\"____________SSE____________\")\n",
    "print(\"SSE at Data 100: \", np.round(SSE(label1, pred1), 5))\n",
    "print(\"SSE at Data 10000: \", np.round(SSE(label2, pred2), 5))\n",
    "print(\"____________MSE____________\")\n",
    "print(\"MSE at Data 100: \", np.round(MSE(label1, pred1), 5))\n",
    "print(\"MSE at Data 10000: \", np.round(MSE(label2, pred2), 5))"
   ]
  },
  {
   "cell_type": "markdown",
   "metadata": {},
   "source": [
    "# RMSE (Ft. MSE, SSE)"
   ]
  },
  {
   "cell_type": "code",
   "execution_count": 4,
   "metadata": {},
   "outputs": [
    {
     "data": {
      "text/plain": [
       "array([0.  , 0.17, 0.19, 0.  , 0.  , 0.13, 0.07, 0.  , 0.01, 0.2 , 0.  ,\n",
       "       0.  , 0.  , 0.  , 0.  , 0.13, 0.  , 0.  , 0.25, 0.06, 0.15, 0.  ,\n",
       "       0.19, 0.  , 0.13, 0.  , 0.  , 0.  , 0.  , 0.  , 0.95, 0.11, 0.29,\n",
       "       0.03, 0.  , 0.1 , 0.26, 0.  , 0.24, 0.2 , 0.26, 0.23, 0.27, 0.  ,\n",
       "       0.12, 0.24, 0.  , 0.  , 0.  , 0.05, 0.  , 0.  , 0.  , 0.  , 0.  ,\n",
       "       0.  , 0.16, 0.  , 0.2 , 0.  , 0.  , 0.21, 0.  , 0.  , 0.12, 0.29,\n",
       "       0.16, 0.  , 0.  , 0.18, 0.26, 0.26, 0.19, 0.22, 0.07, 0.  , 0.02,\n",
       "       0.  , 0.19, 0.  , 0.16, 0.09, 0.  , 0.16, 0.05, 0.2 , 0.17, 0.27,\n",
       "       0.1 , 0.15, 0.  , 0.02, 0.  , 0.22, 0.  , 0.11, 0.19, 0.18, 0.  ,\n",
       "       0.  ])"
      ]
     },
     "execution_count": 4,
     "metadata": {},
     "output_type": "execute_result"
    }
   ],
   "source": [
    "import numpy as np\n",
    "\n",
    "def RMSE(target, pred):\n",
    "    return np.sqrt((1/len(target)) * np.sum((target - pred)**2))\n",
    "\n",
    "def MSE(target, pred):\n",
    "    return (1/len(target)) * np.sum((target - pred)**2)\n",
    "\n",
    "def SSE(target, pred):\n",
    "    return (0.5) * np.sum((target - pred)**2)\n",
    "\n",
    "def data_maker(data_len, index):\n",
    "    label = np.zeros((data_len,))\n",
    "    \n",
    "    pred_sample = np.arange(0, 0.3, 0.01)\n",
    "    \n",
    "    random_data_len = int(data_len/2)\n",
    "    pred_1 = np.random.choice(pred_sample, random_data_len, replace=True)\n",
    "    pred_2 = np.zeros((data_len - random_data_len))\n",
    "    pred = np.concatenate((pred_1, pred_2), axis=0)\n",
    "    np.random.shuffle(pred)\n",
    "    \n",
    "    label[index] = 1\n",
    "    pred[index] = 0.95\n",
    "    \n",
    "    return label, pred\n",
    "\n",
    "label, pred = data_maker(10000, 30)\n",
    "pred[:100]"
   ]
  },
  {
   "cell_type": "code",
   "execution_count": 5,
   "metadata": {},
   "outputs": [
    {
     "name": "stdout",
     "output_type": "stream",
     "text": [
      "SSE:  72.22715\n",
      "MSE:  0.01445\n",
      "RMSE:  0.12019\n"
     ]
    }
   ],
   "source": [
    "print(\"SSE: \", np.round(SSE(label, pred), 5))\n",
    "print(\"MSE: \", np.round(MSE(label, pred), 5))\n",
    "print(\"RMSE: \", np.round(RMSE(label, pred), 5))"
   ]
  },
  {
   "cell_type": "markdown",
   "metadata": {},
   "source": [
    "# CEE"
   ]
  },
  {
   "cell_type": "code",
   "execution_count": 25,
   "metadata": {},
   "outputs": [],
   "source": [
    "import numpy as np\n",
    "\n",
    "def CEE(label, pred):\n",
    "    delta = 1e-7                            #  log함수의 발산을 막기 위한 수\n",
    "    return -np.sum(label * np.log(pred+delta)) # 자연로그 ln"
   ]
  },
  {
   "cell_type": "code",
   "execution_count": 26,
   "metadata": {},
   "outputs": [
    {
     "data": {
      "text/plain": [
       "1.2039724709926583"
      ]
     },
     "execution_count": 26,
     "metadata": {},
     "output_type": "execute_result"
    }
   ],
   "source": [
    "label = np.array([0, 0, 1])\n",
    "pred = np.array([0.5, 0.1, 0.3])\n",
    "\n",
    "CEE(label, pred)"
   ]
  },
  {
   "cell_type": "code",
   "execution_count": 27,
   "metadata": {},
   "outputs": [
    {
     "data": {
      "text/plain": [
       "0.24846123109337967"
      ]
     },
     "execution_count": 27,
     "metadata": {},
     "output_type": "execute_result"
    }
   ],
   "source": [
    "label = np.array([0, 0, 1])\n",
    "pred = np.array([0.1, 0.12, 0.78])\n",
    "\n",
    "CEE(label, pred)"
   ]
  },
  {
   "cell_type": "code",
   "execution_count": 28,
   "metadata": {},
   "outputs": [
    {
     "data": {
      "text/plain": [
       "-1.2039728043259361"
      ]
     },
     "execution_count": 28,
     "metadata": {},
     "output_type": "execute_result"
    }
   ],
   "source": [
    "np.log(0.3)"
   ]
  },
  {
   "cell_type": "code",
   "execution_count": null,
   "metadata": {},
   "outputs": [],
   "source": []
  }
 ],
 "metadata": {
  "kernelspec": {
   "display_name": "ai",
   "language": "python",
   "name": "ai"
  },
  "language_info": {
   "codemirror_mode": {
    "name": "ipython",
    "version": 3
   },
   "file_extension": ".py",
   "mimetype": "text/x-python",
   "name": "python",
   "nbconvert_exporter": "python",
   "pygments_lexer": "ipython3",
   "version": "3.7.13"
  }
 },
 "nbformat": 4,
 "nbformat_minor": 4
}
