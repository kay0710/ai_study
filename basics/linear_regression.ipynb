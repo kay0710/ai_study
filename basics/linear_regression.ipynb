{
 "cells": [
  {
   "cell_type": "code",
   "execution_count": 1,
   "metadata": {},
   "outputs": [
    {
     "name": "stdout",
     "output_type": "stream",
     "text": [
      "shape of input:  (100,)\n",
      "shape of output:  (100,)\n"
     ]
    }
   ],
   "source": [
    "import numpy as np\n",
    "import torch\n",
    "import torch.nn as nn\n",
    "import matplotlib.pyplot as plt\n",
    "\n",
    "file = open('data\\\\regression_data.txt','r')\n",
    "text = file.readlines()\n",
    "file.close()\n",
    "\n",
    "x_data = []\n",
    "y_data = []\n",
    "\n",
    "for s in text:\n",
    "    data = s.split()                                 # 공백 기준 split\n",
    "    x_data.append(float(data[0]))\n",
    "    y_data.append(float(data[1]))\n",
    "    \n",
    "x_data = np.asarray(x_data, dtype=np.float32)\n",
    "y_data = np.asarray(y_data, dtype=np.float32)\n",
    "\n",
    "print(\"shape of input: \", x_data.shape)\n",
    "print(\"shape of output: \", y_data.shape)"
   ]
  },
  {
   "cell_type": "code",
   "execution_count": 2,
   "metadata": {},
   "outputs": [
    {
     "data": {
      "image/png": "[encoded data removed]",
      "text/plain": [
       "<Figure size 432x288 with 1 Axes>"
      ]
     },
     "metadata": {
      "needs_background": "light"
     },
     "output_type": "display_data"
    }
   ],
   "source": [
    "plt.figure(1)\n",
    "plt.plot(x_data, y_data, 'ro')                      # 'ro' 는 red circle 옵션\n",
    "\n",
    "plt.xlabel('x-axis')\n",
    "plt.ylabel('y-axis')\n",
    "plt.title('Kay data')\n",
    "\n",
    "plt.show()"
   ]
  },
  {
   "cell_type": "code",
   "execution_count": 3,
   "metadata": {},
   "outputs": [
    {
     "name": "stdout",
     "output_type": "stream",
     "text": [
      "(100,) (100,)\n",
      "(100, 1) (100, 1)\n"
     ]
    }
   ],
   "source": [
    "# Hyper-parameters define\n",
    "input_size = 1\n",
    "output_size = 1\n",
    "num_epochs =100\n",
    "learning_rate = 0.1\n",
    "\n",
    "# Linear regression medel (y = wx + b)\n",
    "model = nn.Linear(input_size, output_size)\n",
    "\n",
    "# Loss and optimizer\n",
    "criterion = nn.MSELoss()\n",
    "optimizer = torch.optim.SGD(model.parameters(), lr=learning_rate)\n",
    "\n",
    "print(x_data.shape, y_data.shape)\n",
    "\n",
    "if len(x_data.shape) == 1 and len(y_data.shape) == 1:\n",
    "    x_data = np.expand_dims(x_data, axis=-1)\n",
    "    y_data = np.expand_dims(y_data, axis=-1)\n",
    "print(x_data.shape, y_data.shape)"
   ]
  },
  {
   "cell_type": "code",
   "execution_count": 4,
   "metadata": {},
   "outputs": [
    {
     "name": "stdout",
     "output_type": "stream",
     "text": [
      "Epoch [10/100], Loss: 0.0077\n",
      "Epoch [20/100], Loss: 0.0009\n",
      "Epoch [30/100], Loss: 0.0003\n",
      "Epoch [40/100], Loss: 0.0002\n",
      "Epoch [50/100], Loss: 0.0001\n",
      "Epoch [60/100], Loss: 0.0001\n",
      "Epoch [70/100], Loss: 0.0001\n",
      "Epoch [80/100], Loss: 0.0001\n",
      "Epoch [90/100], Loss: 0.0001\n",
      "Epoch [100/100], Loss: 0.0001\n"
     ]
    }
   ],
   "source": [
    "# train model\n",
    "for epoch in range(num_epochs):\n",
    "    # Convert numpy arrays to torch tensors\n",
    "    inputs = torch.from_numpy(x_data)\n",
    "    targets = torch.from_numpy(y_data)\n",
    "    \n",
    "    # Predict outputs with the linear model.\n",
    "    outputs = model(inputs)\n",
    "    loss = criterion(outputs, targets)\n",
    "    \n",
    "    # compute gradients and update\n",
    "    optimizer.zero_grad()\n",
    "    loss.backward()\n",
    "    optimizer.step()\n",
    "    \n",
    "    if (epoch+1) % 10 == 0:\n",
    "        print('Epoch [{}/{}], Loss: {:.4f}'.format(epoch+1, num_epochs, loss.item()))"
   ]
  },
  {
   "cell_type": "code",
   "execution_count": 5,
   "metadata": {},
   "outputs": [
    {
     "data": {
      "text/plain": [
       "<function matplotlib.pyplot.show(close=None, block=None)>"
      ]
     },
     "execution_count": 5,
     "metadata": {},
     "output_type": "execute_result"
    },
    {
     "data": {
      "image/png": "[encoded data removed]",
      "text/plain": [
       "<Figure size 432x288 with 1 Axes>"
      ]
     },
     "metadata": {
      "needs_background": "light"
     },
     "output_type": "display_data"
    }
   ],
   "source": [
    "#print graph\n",
    "predicted = model(torch.from_numpy(x_data)).detach().numpy()\n",
    "plt.plot(x_data, y_data, 'ro', label='Origianl data')\n",
    "plt.plot(x_data, predicted, label='Fitted Line')\n",
    "plt.legend()\n",
    "plt.show"
   ]
  }
 ],
 "metadata": {
  "kernelspec": {
   "display_name": "ai",
   "language": "python",
   "name": "ai"
  },
  "language_info": {
   "codemirror_mode": {
    "name": "ipython",
    "version": 3
   },
   "file_extension": ".py",
   "mimetype": "text/x-python",
   "name": "python",
   "nbconvert_exporter": "python",
   "pygments_lexer": "ipython3",
   "version": "3.7.13"
  }
 },
 "nbformat": 4,
 "nbformat_minor": 4
}
