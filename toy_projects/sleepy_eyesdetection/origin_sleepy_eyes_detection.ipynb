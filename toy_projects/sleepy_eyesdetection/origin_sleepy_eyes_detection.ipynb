{
 "cells": [
  {
   "attachments": {},
   "cell_type": "markdown",
   "metadata": {},
   "source": [
    "# sleept eyes detector (orign. img)\n",
    "\n",
    "pip install imutils\n",
    "\n",
    "pip install opencv-python\n",
    "\n",
    "pip install dlib"
   ]
  },
  {
   "attachments": {},
   "cell_type": "markdown",
   "metadata": {},
   "source": [
    "## start"
   ]
  },
  {
   "cell_type": "code",
   "execution_count": 2,
   "metadata": {},
   "outputs": [],
   "source": [
    "import datetime\n",
    "import numpy as np\n",
    "import matplotlib.pyplot as plt\n",
    "from keras.layers import Input, Activation, Conv2D, Flatten, Dense, MaxPooling2D\n",
    "from keras.models import Model, load_model\n",
    "from keras.preprocessing.image import ImageDataGenerator\n",
    "from keras.callbacks import ModelCheckpoint, ReduceLROnPlateau\n",
    "\n",
    "plt.style.use('dark_background')"
   ]
  },
  {
   "attachments": {},
   "cell_type": "markdown",
   "metadata": {},
   "source": [
    "## Load Dataset"
   ]
  },
  {
   "cell_type": "code",
   "execution_count": 4,
   "metadata": {},
   "outputs": [
    {
     "name": "stdout",
     "output_type": "stream",
     "text": [
      "(2586, 26, 34, 1) (2586, 1)\n",
      "(288, 26, 34, 1) (2586, 1)\n"
     ]
    }
   ],
   "source": [
    "x_train = np.load('dataset/x_train.npy').astype(np.float32)\n",
    "y_train = np.load('dataset/y_train.npy').astype(np.float32)\n",
    "x_val = np.load('dataset/x_val.npy').astype(np.float32)\n",
    "y_val = np.load('dataset/y_val.npy').astype(np.float32)\n",
    "\n",
    "print(x_train.shape, y_train.shape)\n",
    "print(x_val.shape, y_train.shape)"
   ]
  },
  {
   "attachments": {},
   "cell_type": "markdown",
   "metadata": {},
   "source": [
    "## Preview"
   ]
  },
  {
   "cell_type": "code",
   "execution_count": null,
   "metadata": {},
   "outputs": [],
   "source": [
    "plt.subplot(2, 1, 1)\n",
    "plt.title(str(y_train[0]))\n",
    "plt.imshow(x_train[0].reshape((26, 34)), cmap='gray')\n",
    "plt.subplot(2, 1, 2)\n",
    "plt.title(str(y_val[4]))\n",
    "plt.imshow(x_val[4].reshape((26, 34)), cmap='gray')"
   ]
  },
  {
   "attachments": {},
   "cell_type": "markdown",
   "metadata": {},
   "source": [
    "## Data Augmentation"
   ]
  },
  {
   "cell_type": "code",
   "execution_count": 7,
   "metadata": {},
   "outputs": [],
   "source": [
    "train_datagen = ImageDataGenerator(\n",
    "    rescale=1./255,\n",
    "    rotation_range=10,\n",
    "    width_shift_range=0.2,\n",
    "    height_shift_range=0.2,\n",
    "    shear_range=0.2\n",
    ")\n",
    "\n",
    "val_datagen = ImageDataGenerator(rescale=1./255)\n",
    "\n",
    "train_generator = train_datagen.flow(\n",
    "    x = x_train, y = y_train, batch_size = 32, shuffle = True\n",
    ")\n",
    "\n",
    "val_generator = val_datagen.flow(\n",
    "    x = x_val, y = y_val, batch_size = 32, shuffle = True\n",
    ")"
   ]
  },
  {
   "attachments": {},
   "cell_type": "markdown",
   "metadata": {},
   "source": [
    "## Build model"
   ]
  },
  {
   "cell_type": "code",
   "execution_count": 8,
   "metadata": {},
   "outputs": [
    {
     "name": "stdout",
     "output_type": "stream",
     "text": [
      "Model: \"model\"\n",
      "_________________________________________________________________\n",
      " Layer (type)                Output Shape              Param #   \n",
      "=================================================================\n",
      " input_1 (InputLayer)        [(None, 26, 34, 1)]       0         \n",
      "                                                                 \n",
      " conv2d (Conv2D)             (None, 26, 34, 32)        320       \n",
      "                                                                 \n",
      " max_pooling2d (MaxPooling2D  (None, 13, 17, 32)       0         \n",
      " )                                                               \n",
      "                                                                 \n",
      " conv2d_1 (Conv2D)           (None, 13, 17, 64)        18496     \n",
      "                                                                 \n",
      " max_pooling2d_1 (MaxPooling  (None, 6, 8, 64)         0         \n",
      " 2D)                                                             \n",
      "                                                                 \n",
      " conv2d_2 (Conv2D)           (None, 6, 8, 128)         73856     \n",
      "                                                                 \n",
      " max_pooling2d_2 (MaxPooling  (None, 3, 4, 128)        0         \n",
      " 2D)                                                             \n",
      "                                                                 \n",
      " flatten (Flatten)           (None, 1536)              0         \n",
      "                                                                 \n",
      " dense (Dense)               (None, 512)               786944    \n",
      "                                                                 \n",
      " activation (Activation)     (None, 512)               0         \n",
      "                                                                 \n",
      " dense_1 (Dense)             (None, 1)                 513       \n",
      "                                                                 \n",
      " activation_1 (Activation)   (None, 1)                 0         \n",
      "                                                                 \n",
      "=================================================================\n",
      "Total params: 880,129\n",
      "Trainable params: 880,129\n",
      "Non-trainable params: 0\n",
      "_________________________________________________________________\n"
     ]
    },
    {
     "name": "stderr",
     "output_type": "stream",
     "text": [
      "2023-04-17 16:58:17.878802: I tensorflow/core/platform/cpu_feature_guard.cc:193] This TensorFlow binary is optimized with oneAPI Deep Neural Network Library (oneDNN) to use the following CPU instructions in performance-critical operations:  AVX2 AVX512F AVX512_VNNI FMA\n",
      "To enable them in other operations, rebuild TensorFlow with the appropriate compiler flags.\n",
      "2023-04-17 16:58:18.802656: I tensorflow/core/common_runtime/gpu/gpu_device.cc:1613] Created device /job:localhost/replica:0/task:0/device:GPU:0 with 13598 MB memory:  -> device: 0, name: NVIDIA RTX A4000, pci bus id: 0000:67:00.0, compute capability: 8.6\n",
      "2023-04-17 16:58:18.803233: I tensorflow/core/common_runtime/gpu/gpu_device.cc:1613] Created device /job:localhost/replica:0/task:0/device:GPU:1 with 14212 MB memory:  -> device: 1, name: NVIDIA RTX A4000, pci bus id: 0000:68:00.0, compute capability: 8.6\n"
     ]
    }
   ],
   "source": [
    "inputs = Input(shape=(26, 34, 1))\n",
    "\n",
    "net = Conv2D(32, kernel_size=3, strides=1, padding='same', activation='relu')(inputs)\n",
    "net = MaxPooling2D(pool_size=2)(net)\n",
    "\n",
    "net = Conv2D(64, kernel_size=3, strides=1, padding='same', activation='relu')(net)\n",
    "net = MaxPooling2D(pool_size=2)(net)\n",
    "\n",
    "net = Conv2D(128, kernel_size=3, strides=1, padding='same', activation='relu')(net)\n",
    "net = MaxPooling2D(pool_size=2)(net)\n",
    "\n",
    "net = Flatten()(net)\n",
    "\n",
    "net = Dense(512)(net)\n",
    "net = Activation('relu')(net)\n",
    "net = Dense(1)(net)\n",
    "outputs = Activation('sigmoid')(net)\n",
    "\n",
    "model = Model(inputs=inputs, outputs=outputs)\n",
    "\n",
    "model.compile(optimizer = 'adam', loss='binary_crossentropy', metrics=['acc'])\n",
    "model.summary()"
   ]
  },
  {
   "attachments": {},
   "cell_type": "markdown",
   "metadata": {},
   "source": [
    "## Train"
   ]
  },
  {
   "cell_type": "code",
   "execution_count": 11,
   "metadata": {},
   "outputs": [
    {
     "name": "stdout",
     "output_type": "stream",
     "text": [
      "Epoch 1/50\n"
     ]
    },
    {
     "name": "stderr",
     "output_type": "stream",
     "text": [
      "/tmp/ipykernel_150407/3027296455.py:3: UserWarning: `Model.fit_generator` is deprecated and will be removed in a future version. Please use `Model.fit`, which supports generators.\n",
      "  model.fit_generator(\n",
      "2023-04-17 17:01:16.630155: I tensorflow/compiler/xla/stream_executor/cuda/cuda_dnn.cc:428] Loaded cuDNN version 8801\n",
      "2023-04-17 17:01:18.006565: I tensorflow/compiler/xla/stream_executor/cuda/cuda_blas.cc:630] TensorFloat-32 will be used for the matrix multiplication. This will only be logged once.\n",
      "2023-04-17 17:01:18.434143: I tensorflow/compiler/xla/service/service.cc:173] XLA service 0x7f3a2ff013f0 initialized for platform CUDA (this does not guarantee that XLA will be used). Devices:\n",
      "2023-04-17 17:01:18.434166: I tensorflow/compiler/xla/service/service.cc:181]   StreamExecutor device (0): NVIDIA RTX A4000, Compute Capability 8.6\n",
      "2023-04-17 17:01:18.434170: I tensorflow/compiler/xla/service/service.cc:181]   StreamExecutor device (1): NVIDIA RTX A4000, Compute Capability 8.6\n",
      "2023-04-17 17:01:18.444130: I tensorflow/compiler/mlir/tensorflow/utils/dump_mlir_util.cc:268] disabling MLIR crash reproducer, set env var `MLIR_CRASH_REPRODUCER_DIRECTORY` to enable.\n",
      "2023-04-17 17:01:18.701045: I tensorflow/compiler/jit/xla_compilation_cache.cc:477] Compiled cluster using XLA!  This line is logged at most once for the lifetime of the process.\n"
     ]
    },
    {
     "name": "stdout",
     "output_type": "stream",
     "text": [
      "79/81 [============================>.] - ETA: 0s - loss: 0.4802 - acc: 0.7581\n",
      "Epoch 1: val_acc improved from -inf to 0.88889, saving model to models/2023_04_17_17_01_14.h5\n",
      "81/81 [==============================] - 7s 23ms/step - loss: 0.4759 - acc: 0.7614 - val_loss: 0.2533 - val_acc: 0.8889 - lr: 0.0010\n",
      "Epoch 2/50\n",
      "79/81 [============================>.] - ETA: 0s - loss: 0.2174 - acc: 0.9148\n",
      "Epoch 2: val_acc improved from 0.88889 to 0.95139, saving model to models/2023_04_17_17_01_14.h5\n",
      "81/81 [==============================] - 2s 20ms/step - loss: 0.2156 - acc: 0.9153 - val_loss: 0.1002 - val_acc: 0.9514 - lr: 0.0010\n",
      "Epoch 3/50\n",
      "81/81 [==============================] - ETA: 0s - loss: 0.1466 - acc: 0.9505\n",
      "Epoch 3: val_acc improved from 0.95139 to 0.96528, saving model to models/2023_04_17_17_01_14.h5\n",
      "81/81 [==============================] - 2s 21ms/step - loss: 0.1466 - acc: 0.9505 - val_loss: 0.0853 - val_acc: 0.9653 - lr: 0.0010\n",
      "Epoch 4/50\n",
      "80/81 [============================>.] - ETA: 0s - loss: 0.1363 - acc: 0.9546\n",
      "Epoch 4: val_acc improved from 0.96528 to 0.98611, saving model to models/2023_04_17_17_01_14.h5\n",
      "81/81 [==============================] - 2s 21ms/step - loss: 0.1356 - acc: 0.9548 - val_loss: 0.0434 - val_acc: 0.9861 - lr: 0.0010\n",
      "Epoch 5/50\n",
      "79/81 [============================>.] - ETA: 0s - loss: 0.1052 - acc: 0.9663\n",
      "Epoch 5: val_acc improved from 0.98611 to 0.99306, saving model to models/2023_04_17_17_01_14.h5\n",
      "81/81 [==============================] - 2s 20ms/step - loss: 0.1047 - acc: 0.9664 - val_loss: 0.0448 - val_acc: 0.9931 - lr: 0.0010\n",
      "Epoch 6/50\n",
      "81/81 [==============================] - ETA: 0s - loss: 0.0783 - acc: 0.9749\n",
      "Epoch 6: val_acc did not improve from 0.99306\n",
      "81/81 [==============================] - 2s 18ms/step - loss: 0.0783 - acc: 0.9749 - val_loss: 0.0355 - val_acc: 0.9826 - lr: 0.0010\n",
      "Epoch 7/50\n",
      "79/81 [============================>.] - ETA: 0s - loss: 0.0728 - acc: 0.9806\n",
      "Epoch 7: val_acc did not improve from 0.99306\n",
      "81/81 [==============================] - 2s 20ms/step - loss: 0.0719 - acc: 0.9807 - val_loss: 0.0241 - val_acc: 0.9896 - lr: 0.0010\n",
      "Epoch 8/50\n",
      "80/81 [============================>.] - ETA: 0s - loss: 0.0590 - acc: 0.9804\n",
      "Epoch 8: val_acc did not improve from 0.99306\n",
      "81/81 [==============================] - 2s 19ms/step - loss: 0.0586 - acc: 0.9807 - val_loss: 0.0400 - val_acc: 0.9861 - lr: 0.0010\n",
      "Epoch 9/50\n",
      "81/81 [==============================] - ETA: 0s - loss: 0.0581 - acc: 0.9830\n",
      "Epoch 9: val_acc did not improve from 0.99306\n",
      "81/81 [==============================] - 2s 18ms/step - loss: 0.0581 - acc: 0.9830 - val_loss: 0.0218 - val_acc: 0.9861 - lr: 0.0010\n",
      "Epoch 10/50\n",
      "76/81 [===========================>..] - ETA: 0s - loss: 0.0436 - acc: 0.9880\n",
      "Epoch 10: val_acc did not improve from 0.99306\n",
      "81/81 [==============================] - 2s 20ms/step - loss: 0.0422 - acc: 0.9884 - val_loss: 0.0172 - val_acc: 0.9931 - lr: 0.0010\n",
      "Epoch 11/50\n",
      "78/81 [===========================>..] - ETA: 0s - loss: 0.0576 - acc: 0.9811\n",
      "Epoch 11: val_acc did not improve from 0.99306\n",
      "81/81 [==============================] - 2s 19ms/step - loss: 0.0567 - acc: 0.9814 - val_loss: 0.0257 - val_acc: 0.9896 - lr: 0.0010\n",
      "Epoch 12/50\n",
      "81/81 [==============================] - ETA: 0s - loss: 0.0419 - acc: 0.9888\n",
      "Epoch 12: val_acc did not improve from 0.99306\n",
      "81/81 [==============================] - 2s 19ms/step - loss: 0.0419 - acc: 0.9888 - val_loss: 0.0175 - val_acc: 0.9931 - lr: 0.0010\n",
      "Epoch 13/50\n",
      "79/81 [============================>.] - ETA: 0s - loss: 0.0432 - acc: 0.9861\n",
      "Epoch 13: val_acc did not improve from 0.99306\n",
      "81/81 [==============================] - 2s 20ms/step - loss: 0.0442 - acc: 0.9857 - val_loss: 0.0321 - val_acc: 0.9896 - lr: 0.0010\n",
      "Epoch 14/50\n",
      "80/81 [============================>.] - ETA: 0s - loss: 0.0316 - acc: 0.9902\n",
      "Epoch 14: val_acc improved from 0.99306 to 0.99653, saving model to models/2023_04_17_17_01_14.h5\n",
      "81/81 [==============================] - 2s 20ms/step - loss: 0.0313 - acc: 0.9903 - val_loss: 0.0114 - val_acc: 0.9965 - lr: 0.0010\n",
      "Epoch 15/50\n",
      "79/81 [============================>.] - ETA: 0s - loss: 0.0309 - acc: 0.9897\n",
      "Epoch 15: val_acc did not improve from 0.99653\n",
      "81/81 [==============================] - 2s 20ms/step - loss: 0.0316 - acc: 0.9896 - val_loss: 0.0641 - val_acc: 0.9757 - lr: 0.0010\n",
      "Epoch 16/50\n",
      "80/81 [============================>.] - ETA: 0s - loss: 0.0612 - acc: 0.9781\n",
      "Epoch 16: val_acc improved from 0.99653 to 1.00000, saving model to models/2023_04_17_17_01_14.h5\n",
      "81/81 [==============================] - 2s 21ms/step - loss: 0.0605 - acc: 0.9783 - val_loss: 0.0078 - val_acc: 1.0000 - lr: 0.0010\n",
      "Epoch 17/50\n",
      "80/81 [============================>.] - ETA: 0s - loss: 0.0365 - acc: 0.9902\n",
      "Epoch 17: val_acc did not improve from 1.00000\n",
      "81/81 [==============================] - 2s 20ms/step - loss: 0.0363 - acc: 0.9903 - val_loss: 0.0134 - val_acc: 0.9931 - lr: 0.0010\n",
      "Epoch 18/50\n",
      "80/81 [============================>.] - ETA: 0s - loss: 0.0301 - acc: 0.9894\n",
      "Epoch 18: val_acc did not improve from 1.00000\n",
      "81/81 [==============================] - 2s 21ms/step - loss: 0.0304 - acc: 0.9892 - val_loss: 0.0050 - val_acc: 1.0000 - lr: 0.0010\n",
      "Epoch 19/50\n",
      "81/81 [==============================] - ETA: 0s - loss: 0.0224 - acc: 0.9942\n",
      "Epoch 19: val_acc did not improve from 1.00000\n",
      "81/81 [==============================] - 2s 18ms/step - loss: 0.0224 - acc: 0.9942 - val_loss: 0.0102 - val_acc: 0.9931 - lr: 0.0010\n",
      "Epoch 20/50\n",
      "80/81 [============================>.] - ETA: 0s - loss: 0.0263 - acc: 0.9914\n",
      "Epoch 20: val_acc did not improve from 1.00000\n",
      "81/81 [==============================] - 2s 19ms/step - loss: 0.0260 - acc: 0.9915 - val_loss: 0.0096 - val_acc: 0.9931 - lr: 0.0010\n",
      "Epoch 21/50\n",
      "80/81 [============================>.] - ETA: 0s - loss: 0.0211 - acc: 0.9926\n",
      "Epoch 21: val_acc did not improve from 1.00000\n",
      "81/81 [==============================] - 2s 21ms/step - loss: 0.0227 - acc: 0.9923 - val_loss: 0.0126 - val_acc: 0.9965 - lr: 0.0010\n",
      "Epoch 22/50\n",
      "81/81 [==============================] - ETA: 0s - loss: 0.0305 - acc: 0.9923\n",
      "Epoch 22: val_acc did not improve from 1.00000\n",
      "81/81 [==============================] - 2s 21ms/step - loss: 0.0305 - acc: 0.9923 - val_loss: 0.0119 - val_acc: 0.9931 - lr: 0.0010\n",
      "Epoch 23/50\n",
      "79/81 [============================>.] - ETA: 0s - loss: 0.0230 - acc: 0.9925\n",
      "Epoch 23: val_acc did not improve from 1.00000\n",
      "81/81 [==============================] - 1s 17ms/step - loss: 0.0229 - acc: 0.9927 - val_loss: 0.0062 - val_acc: 0.9965 - lr: 0.0010\n",
      "Epoch 24/50\n",
      "80/81 [============================>.] - ETA: 0s - loss: 0.0229 - acc: 0.9937\n",
      "Epoch 24: val_acc did not improve from 1.00000\n",
      "81/81 [==============================] - 2s 20ms/step - loss: 0.0230 - acc: 0.9934 - val_loss: 0.0059 - val_acc: 0.9965 - lr: 0.0010\n",
      "Epoch 25/50\n",
      "80/81 [============================>.] - ETA: 0s - loss: 0.0191 - acc: 0.9933\n",
      "Epoch 25: val_acc did not improve from 1.00000\n",
      "81/81 [==============================] - 2s 18ms/step - loss: 0.0189 - acc: 0.9934 - val_loss: 0.0113 - val_acc: 0.9965 - lr: 0.0010\n",
      "Epoch 26/50\n",
      "81/81 [==============================] - ETA: 0s - loss: 0.0128 - acc: 0.9965\n",
      "Epoch 26: val_acc did not improve from 1.00000\n",
      "\n",
      "Epoch 26: ReduceLROnPlateau reducing learning rate to 0.00020000000949949026.\n",
      "81/81 [==============================] - 2s 19ms/step - loss: 0.0128 - acc: 0.9965 - val_loss: 0.0231 - val_acc: 0.9965 - lr: 0.0010\n",
      "Epoch 27/50\n",
      "80/81 [============================>.] - ETA: 0s - loss: 0.0138 - acc: 0.9949\n",
      "Epoch 27: val_acc did not improve from 1.00000\n",
      "81/81 [==============================] - 2s 20ms/step - loss: 0.0140 - acc: 0.9946 - val_loss: 0.0093 - val_acc: 0.9965 - lr: 2.0000e-04\n",
      "Epoch 28/50\n",
      "79/81 [============================>.] - ETA: 0s - loss: 0.0106 - acc: 0.9964\n",
      "Epoch 28: val_acc did not improve from 1.00000\n",
      "81/81 [==============================] - 2s 19ms/step - loss: 0.0105 - acc: 0.9965 - val_loss: 0.0039 - val_acc: 1.0000 - lr: 2.0000e-04\n",
      "Epoch 29/50\n",
      "80/81 [============================>.] - ETA: 0s - loss: 0.0080 - acc: 0.9980\n",
      "Epoch 29: val_acc did not improve from 1.00000\n",
      "81/81 [==============================] - 2s 19ms/step - loss: 0.0079 - acc: 0.9981 - val_loss: 0.0026 - val_acc: 1.0000 - lr: 2.0000e-04\n",
      "Epoch 30/50\n",
      "80/81 [============================>.] - ETA: 0s - loss: 0.0049 - acc: 0.9992\n",
      "Epoch 30: val_acc did not improve from 1.00000\n",
      "81/81 [==============================] - 1s 18ms/step - loss: 0.0049 - acc: 0.9992 - val_loss: 0.0032 - val_acc: 1.0000 - lr: 2.0000e-04\n",
      "Epoch 31/50\n",
      "81/81 [==============================] - ETA: 0s - loss: 0.0078 - acc: 0.9969\n",
      "Epoch 31: val_acc did not improve from 1.00000\n",
      "81/81 [==============================] - 2s 18ms/step - loss: 0.0078 - acc: 0.9969 - val_loss: 0.0036 - val_acc: 1.0000 - lr: 2.0000e-04\n",
      "Epoch 32/50\n",
      "79/81 [============================>.] - ETA: 0s - loss: 0.0091 - acc: 0.9964\n",
      "Epoch 32: val_acc did not improve from 1.00000\n",
      "81/81 [==============================] - 2s 18ms/step - loss: 0.0089 - acc: 0.9965 - val_loss: 0.0042 - val_acc: 0.9965 - lr: 2.0000e-04\n",
      "Epoch 33/50\n",
      "80/81 [============================>.] - ETA: 0s - loss: 0.0051 - acc: 0.9984\n",
      "Epoch 33: val_acc did not improve from 1.00000\n",
      "81/81 [==============================] - 2s 19ms/step - loss: 0.0051 - acc: 0.9985 - val_loss: 0.0025 - val_acc: 1.0000 - lr: 2.0000e-04\n",
      "Epoch 34/50\n",
      "79/81 [============================>.] - ETA: 0s - loss: 0.0085 - acc: 0.9964\n",
      "Epoch 34: val_acc did not improve from 1.00000\n",
      "81/81 [==============================] - 2s 18ms/step - loss: 0.0089 - acc: 0.9961 - val_loss: 0.0034 - val_acc: 1.0000 - lr: 2.0000e-04\n",
      "Epoch 35/50\n",
      "81/81 [==============================] - ETA: 0s - loss: 0.0065 - acc: 0.9981\n",
      "Epoch 35: val_acc did not improve from 1.00000\n",
      "81/81 [==============================] - 2s 20ms/step - loss: 0.0065 - acc: 0.9981 - val_loss: 0.0036 - val_acc: 1.0000 - lr: 2.0000e-04\n",
      "Epoch 36/50\n",
      "79/81 [============================>.] - ETA: 0s - loss: 0.0065 - acc: 0.9976\n",
      "Epoch 36: val_acc did not improve from 1.00000\n",
      "\n",
      "Epoch 36: ReduceLROnPlateau reducing learning rate to 4.0000001899898055e-05.\n",
      "81/81 [==============================] - 2s 20ms/step - loss: 0.0063 - acc: 0.9977 - val_loss: 0.0015 - val_acc: 1.0000 - lr: 2.0000e-04\n",
      "Epoch 37/50\n",
      "79/81 [============================>.] - ETA: 0s - loss: 0.0069 - acc: 0.9968\n",
      "Epoch 37: val_acc did not improve from 1.00000\n",
      "81/81 [==============================] - 2s 21ms/step - loss: 0.0068 - acc: 0.9969 - val_loss: 0.0015 - val_acc: 1.0000 - lr: 4.0000e-05\n",
      "Epoch 38/50\n",
      "80/81 [============================>.] - ETA: 0s - loss: 0.0053 - acc: 0.9984\n",
      "Epoch 38: val_acc did not improve from 1.00000\n",
      "81/81 [==============================] - 1s 16ms/step - loss: 0.0052 - acc: 0.9985 - val_loss: 0.0016 - val_acc: 1.0000 - lr: 4.0000e-05\n",
      "Epoch 39/50\n",
      "79/81 [============================>.] - ETA: 0s - loss: 0.0054 - acc: 0.9984\n",
      "Epoch 39: val_acc did not improve from 1.00000\n",
      "81/81 [==============================] - 2s 20ms/step - loss: 0.0054 - acc: 0.9985 - val_loss: 0.0020 - val_acc: 1.0000 - lr: 4.0000e-05\n",
      "Epoch 40/50\n",
      "81/81 [==============================] - ETA: 0s - loss: 0.0059 - acc: 0.9988\n",
      "Epoch 40: val_acc did not improve from 1.00000\n",
      "81/81 [==============================] - 2s 19ms/step - loss: 0.0059 - acc: 0.9988 - val_loss: 0.0020 - val_acc: 1.0000 - lr: 4.0000e-05\n",
      "Epoch 41/50\n",
      "78/81 [===========================>..] - ETA: 0s - loss: 0.0046 - acc: 0.9992\n",
      "Epoch 41: val_acc did not improve from 1.00000\n",
      "81/81 [==============================] - 1s 18ms/step - loss: 0.0045 - acc: 0.9992 - val_loss: 0.0018 - val_acc: 1.0000 - lr: 4.0000e-05\n",
      "Epoch 42/50\n",
      "79/81 [============================>.] - ETA: 0s - loss: 0.0031 - acc: 0.9992\n",
      "Epoch 42: val_acc did not improve from 1.00000\n",
      "81/81 [==============================] - 1s 18ms/step - loss: 0.0031 - acc: 0.9992 - val_loss: 0.0019 - val_acc: 1.0000 - lr: 4.0000e-05\n",
      "Epoch 43/50\n",
      "81/81 [==============================] - ETA: 0s - loss: 0.0073 - acc: 0.9985\n",
      "Epoch 43: val_acc did not improve from 1.00000\n",
      "81/81 [==============================] - 2s 19ms/step - loss: 0.0073 - acc: 0.9985 - val_loss: 0.0017 - val_acc: 1.0000 - lr: 4.0000e-05\n",
      "Epoch 44/50\n",
      "79/81 [============================>.] - ETA: 0s - loss: 0.0034 - acc: 0.9988\n",
      "Epoch 44: val_acc did not improve from 1.00000\n",
      "81/81 [==============================] - 1s 18ms/step - loss: 0.0036 - acc: 0.9985 - val_loss: 0.0016 - val_acc: 1.0000 - lr: 4.0000e-05\n",
      "Epoch 45/50\n",
      "81/81 [==============================] - ETA: 0s - loss: 0.0042 - acc: 0.9992\n",
      "Epoch 45: val_acc did not improve from 1.00000\n",
      "81/81 [==============================] - 2s 20ms/step - loss: 0.0042 - acc: 0.9992 - val_loss: 0.0015 - val_acc: 1.0000 - lr: 4.0000e-05\n",
      "Epoch 46/50\n",
      "79/81 [============================>.] - ETA: 0s - loss: 0.0045 - acc: 0.9992\n",
      "Epoch 46: val_acc did not improve from 1.00000\n",
      "\n",
      "Epoch 46: ReduceLROnPlateau reducing learning rate to 1e-05.\n",
      "81/81 [==============================] - 2s 19ms/step - loss: 0.0054 - acc: 0.9985 - val_loss: 0.0013 - val_acc: 1.0000 - lr: 4.0000e-05\n",
      "Epoch 47/50\n",
      "78/81 [===========================>..] - ETA: 0s - loss: 0.0049 - acc: 0.9992\n",
      "Epoch 47: val_acc did not improve from 1.00000\n",
      "81/81 [==============================] - 1s 17ms/step - loss: 0.0048 - acc: 0.9992 - val_loss: 0.0014 - val_acc: 1.0000 - lr: 1.0000e-05\n",
      "Epoch 48/50\n",
      "80/81 [============================>.] - ETA: 0s - loss: 0.0041 - acc: 0.9992\n",
      "Epoch 48: val_acc did not improve from 1.00000\n",
      "81/81 [==============================] - 2s 20ms/step - loss: 0.0041 - acc: 0.9992 - val_loss: 0.0014 - val_acc: 1.0000 - lr: 1.0000e-05\n",
      "Epoch 49/50\n",
      "77/81 [===========================>..] - ETA: 0s - loss: 0.0028 - acc: 0.9992\n",
      "Epoch 49: val_acc did not improve from 1.00000\n",
      "81/81 [==============================] - 2s 18ms/step - loss: 0.0027 - acc: 0.9992 - val_loss: 0.0013 - val_acc: 1.0000 - lr: 1.0000e-05\n",
      "Epoch 50/50\n",
      "81/81 [==============================] - ETA: 0s - loss: 0.0064 - acc: 0.9985\n",
      "Epoch 50: val_acc did not improve from 1.00000\n",
      "81/81 [==============================] - 2s 19ms/step - loss: 0.0064 - acc: 0.9985 - val_loss: 0.0014 - val_acc: 1.0000 - lr: 1.0000e-05\n"
     ]
    },
    {
     "data": {
      "text/plain": [
       "<keras.callbacks.History at 0x7f4196fc0b80>"
      ]
     },
     "execution_count": 11,
     "metadata": {},
     "output_type": "execute_result"
    }
   ],
   "source": [
    "start_time = datetime.datetime.now().strftime('%Y_%m_%d_%H_%M_%S')\n",
    "\n",
    "model.fit_generator(\n",
    "    train_generator, epochs=50, validation_data=val_generator,\n",
    "    callbacks=[\n",
    "        ModelCheckpoint('models/%s.h5' % (start_time), monitor='val_acc', save_best_only=True, mode='max', verbose=1),\n",
    "        ReduceLROnPlateau(monitor='val_acc', factor=0.2, patience=10, verbose=1, mode='auto', min_lr=1e-05)\n",
    "    ]\n",
    ")"
   ]
  },
  {
   "attachments": {},
   "cell_type": "markdown",
   "metadata": {},
   "source": [
    "## Confusion Matrix"
   ]
  },
  {
   "cell_type": "code",
   "execution_count": 13,
   "metadata": {},
   "outputs": [
    {
     "name": "stdout",
     "output_type": "stream",
     "text": [
      "9/9 [==============================] - 0s 2ms/step\n",
      "test acc: 1.0\n"
     ]
    },
    {
     "name": "stderr",
     "output_type": "stream",
     "text": [
      "/tmp/ipykernel_150407/1472568577.py:7: DeprecationWarning: `np.int` is a deprecated alias for the builtin `int`. To silence this warning, use `int` by itself. Doing this will not modify any behavior and is safe. When replacing `np.int`, you may wish to use e.g. `np.int64` or `np.int32` to specify the precision. If you wish to review your current use, check the release note link for additional information.\n",
      "Deprecated in NumPy 1.20; for more details and guidance: https://numpy.org/devdocs/release/1.20.0-notes.html#deprecations\n",
      "  y_pred_logical = (y_pred > 0.5).astype(np.int)\n"
     ]
    },
    {
     "data": {
      "text/plain": [
       "<Axes: >"
      ]
     },
     "execution_count": 13,
     "metadata": {},
     "output_type": "execute_result"
    },
    {
     "data": {
      "image/png": "[encoded data removed]",
      "text/plain": [
       "<Figure size 640x480 with 2 Axes>"
      ]
     },
     "metadata": {},
     "output_type": "display_data"
    }
   ],
   "source": [
    "from sklearn.metrics import accuracy_score, confusion_matrix\n",
    "import seaborn as sns\n",
    "\n",
    "model = load_model('models/%s.h5' % (start_time))\n",
    "\n",
    "y_pred = model.predict(x_val/255.)\n",
    "y_pred_logical = (y_pred > 0.5).astype(np.int)\n",
    "\n",
    "print('test acc: %s' % accuracy_score(y_val, y_pred_logical))\n",
    "cm = confusion_matrix(y_val, y_pred_logical)\n",
    "sns.heatmap(cm, annot=True)"
   ]
  },
  {
   "cell_type": "code",
   "execution_count": 14,
   "metadata": {},
   "outputs": [
    {
     "data": {
      "image/png": "[encoded data removed]",
      "text/plain": [
       "<Figure size 558.875x500 with 1 Axes>"
      ]
     },
     "metadata": {},
     "output_type": "display_data"
    }
   ],
   "source": [
    "ax = sns.displot(y_pred, kde=False)"
   ]
  },
  {
   "cell_type": "code",
   "execution_count": null,
   "metadata": {},
   "outputs": [],
   "source": []
  }
 ],
 "metadata": {
  "kernelspec": {
   "display_name": "kay",
   "language": "python",
   "name": "kay"
  },
  "language_info": {
   "codemirror_mode": {
    "name": "ipython",
    "version": 3
   },
   "file_extension": ".py",
   "mimetype": "text/x-python",
   "name": "python",
   "nbconvert_exporter": "python",
   "pygments_lexer": "ipython3",
   "version": "3.9.16"
  },
  "orig_nbformat": 4
 },
 "nbformat": 4,
 "nbformat_minor": 2
}
