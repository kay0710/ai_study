{
 "cells": [
  {
   "attachments": {},
   "cell_type": "markdown",
   "metadata": {},
   "source": [
    "# sleept eyes detector (video)\n",
    "\n",
    "pip install imutils\n",
    "\n",
    "pip install opencv-python\n",
    "\n",
    "pip install dlib\n",
    "\n",
    "pip install torchsummary\n",
    "\n",
    "\n",
    "\n",
    "[[Open cv Error at Linux]]\n",
    "\n",
    "pip uninstall opencv-python\n",
    "\n",
    "conda install -c menpo opencv\n",
    "\n",
    "pip install opencv-python-headless\n",
    "\n",
    "(pip install opencv-conrtib-python)\n",
    "\n",
    "sudo apt install libgtk2.0-dev"
   ]
  },
  {
   "attachments": {},
   "cell_type": "markdown",
   "metadata": {},
   "source": [
    "## dataset"
   ]
  },
  {
   "cell_type": "code",
   "execution_count": 2,
   "metadata": {},
   "outputs": [],
   "source": [
    "from torch.utils.data import Dataset\n",
    "import torch\n",
    "\n",
    "class eyes_dataset(Dataset):\n",
    "    def __init__(self, x_file_path, y_file_path, transform=None):\n",
    "        self.x_files = x_file_path\n",
    "        self.y_files = y_file_path\n",
    "        self.transform = transform\n",
    "        \n",
    "    def __getitem__(self, idx):\n",
    "        x = self.x_files[idx]\n",
    "        x = torch.from_numpy(x).float()\n",
    "        \n",
    "        y = self.y_files[idx]\n",
    "        y = torch.from_numpy(y).float()\n",
    "        \n",
    "        return x,y\n",
    "    \n",
    "    def __len__(self):\n",
    "        return len(self.x_files)"
   ]
  },
  {
   "attachments": {},
   "cell_type": "markdown",
   "metadata": {},
   "source": [
    "# model"
   ]
  },
  {
   "cell_type": "code",
   "execution_count": 3,
   "metadata": {},
   "outputs": [],
   "source": [
    "import torch.nn as nn\n",
    "import torch.nn.functional as F\n",
    "from torchsummary import summary\n",
    "\n",
    "class Net(nn.Module):\n",
    "    def __init__(self):\n",
    "        super(Net, self).__init__()\n",
    "        \n",
    "        self.conv1 = nn.Conv2d(1, 32, kernel_size=3, stride=1, padding=1)\n",
    "        self.conv2 = nn.Conv2d(32, 64, kernel_size=3, stride=1, padding=1)\n",
    "        self.conv3 = nn.Conv2d(64, 128, kernel_size=3, stride=1, padding=1)\n",
    "        self.fc1 = nn.Linear(1536, 512)\n",
    "        self.fc2 = nn.Linear(512, 1)\n",
    "        \n",
    "    def forward(self, x):\n",
    "        x = F.max_pool2d(F.relu(self.conv1(x)), 2)\n",
    "        x = F.max_pool2d(F.relu(self.conv2(x)), 2)\n",
    "        x = F.max_pool2d(F.relu(self.conv3(x)), 2)\n",
    "        x = x.reshape(-1, 1536)\n",
    "        x = F.relu(self.fc1(x))\n",
    "        x = self.fc2(x)\n",
    "        \n",
    "        return x"
   ]
  },
  {
   "cell_type": "code",
   "execution_count": 4,
   "metadata": {},
   "outputs": [
    {
     "name": "stdout",
     "output_type": "stream",
     "text": [
      "----------------------------------------------------------------\n",
      "        Layer (type)               Output Shape         Param #\n",
      "================================================================\n",
      "            Conv2d-1           [-1, 32, 26, 34]             320\n",
      "            Conv2d-2           [-1, 64, 13, 17]          18,496\n",
      "            Conv2d-3            [-1, 128, 6, 8]          73,856\n",
      "            Linear-4                  [-1, 512]         786,944\n",
      "            Linear-5                    [-1, 1]             513\n",
      "================================================================\n",
      "Total params: 880,129\n",
      "Trainable params: 880,129\n",
      "Non-trainable params: 0\n",
      "----------------------------------------------------------------\n",
      "Input size (MB): 0.00\n",
      "Forward/backward pass size (MB): 0.37\n",
      "Params size (MB): 3.36\n",
      "Estimated Total Size (MB): 3.74\n",
      "----------------------------------------------------------------\n"
     ]
    }
   ],
   "source": [
    "model = Net().to('cuda')\n",
    "summary(model, (1, 26, 34))"
   ]
  },
  {
   "attachments": {},
   "cell_type": "markdown",
   "metadata": {},
   "source": [
    "## Train"
   ]
  },
  {
   "cell_type": "code",
   "execution_count": 5,
   "metadata": {},
   "outputs": [],
   "source": [
    "import numpy as np\n",
    "import matplotlib.pyplot as plt\n",
    "import torch\n",
    "import torch.nn as nn\n",
    "from torchvision.transforms import transforms\n",
    "from torch.utils.data import DataLoader\n",
    "import torch.optim as optim\n",
    "\n",
    "# from data_loader import eyes_dataset\n",
    "# from model import Net"
   ]
  },
  {
   "cell_type": "code",
   "execution_count": 6,
   "metadata": {},
   "outputs": [],
   "source": [
    "x_train = np.load('./dataset/x_train.npy').astype(np.float32)\n",
    "y_train = np.load('./dataset/y_train.npy').astype(np.float32)\n",
    "\n",
    "train_transform = transforms.Compose([\n",
    "    transforms.ToTensor(),\n",
    "    transforms.RandomRotation(10),\n",
    "    transforms.RandomHorizontalFlip(),\n",
    "])\n",
    "\n",
    "train_dataset = eyes_dataset(x_train, y_train, transform=train_transform)"
   ]
  },
  {
   "cell_type": "code",
   "execution_count": 7,
   "metadata": {},
   "outputs": [],
   "source": [
    "## print result\n",
    "# plt.style.use('dark_background')\n",
    "# fig = plt.figure()\n",
    "\n",
    "# for i in range(len(train_dataset)):\n",
    "#     x, y = train_dataset[i]\n",
    "    \n",
    "#     plt.subplot(2,1,1)\n",
    "#     plt.title(str(y_train[i]))\n",
    "#     plt.imshow(x_train[i].reshape((26, 34)), cmap='gray')\n",
    "    \n",
    "#     plt.show()"
   ]
  },
  {
   "cell_type": "code",
   "execution_count": 8,
   "metadata": {},
   "outputs": [],
   "source": [
    "PATH = 'weights/train.pth'\n",
    "\n",
    "train_dataloader = DataLoader(train_dataset, batch_size=32, shuffle=True, num_workers=4)\n",
    "\n",
    "modelNet = Net()\n",
    "modelNet.to('cuda')\n",
    "\n",
    "criterion = nn.BCEWithLogitsLoss()\n",
    "optimizer = optim.Adam(modelNet.parameters(), lr=0.0001)\n",
    "\n",
    "epochs = 50"
   ]
  },
  {
   "cell_type": "code",
   "execution_count": 9,
   "metadata": {},
   "outputs": [],
   "source": [
    "def accuracy(y_pred, y_test):\n",
    "    y_pred_tag = torch.round(torch.sigmoid(y_pred))\n",
    "    \n",
    "    correct_results_sum = (y_pred_tag == y_test).sum().float()\n",
    "    acc = correct_results_sum / y_test.shape[0]\n",
    "    acc = torch.round(acc * 100)\n",
    "    \n",
    "    return acc"
   ]
  },
  {
   "cell_type": "code",
   "execution_count": 10,
   "metadata": {},
   "outputs": [
    {
     "name": "stdout",
     "output_type": "stream",
     "text": [
      "epoch: [1/50] trian loss: 0.36366 train acc: 86.61250\n",
      "epoch: [2/50] trian loss: 0.13060 train acc: 95.80000\n",
      "epoch: [3/50] trian loss: 0.08994 train acc: 97.18750\n",
      "epoch: [4/50] trian loss: 0.05301 train acc: 98.68750\n",
      "epoch: [5/50] trian loss: 0.04580 train acc: 98.61250\n",
      "epoch: [6/50] trian loss: 0.02871 train acc: 99.43750\n",
      "epoch: [7/50] trian loss: 0.02265 train acc: 99.51250\n",
      "epoch: [8/50] trian loss: 0.01999 train acc: 99.55000\n",
      "epoch: [9/50] trian loss: 0.01208 train acc: 99.70000\n",
      "epoch: [10/50] trian loss: 0.01441 train acc: 99.66250\n",
      "epoch: [11/50] trian loss: 0.00985 train acc: 99.73750\n",
      "epoch: [12/50] trian loss: 0.01008 train acc: 99.81250\n",
      "epoch: [13/50] trian loss: 0.00373 train acc: 100.00000\n",
      "epoch: [14/50] trian loss: 0.00318 train acc: 100.00000\n",
      "epoch: [15/50] trian loss: 0.00214 train acc: 100.00000\n",
      "epoch: [16/50] trian loss: 0.00198 train acc: 100.00000\n",
      "epoch: [17/50] trian loss: 0.01599 train acc: 99.51250\n",
      "epoch: [18/50] trian loss: 0.01278 train acc: 99.58750\n",
      "epoch: [19/50] trian loss: 0.01213 train acc: 99.58750\n",
      "epoch: [20/50] trian loss: 0.01360 train acc: 99.43750\n",
      "epoch: [21/50] trian loss: 0.00477 train acc: 99.92500\n",
      "epoch: [22/50] trian loss: 0.00191 train acc: 100.00000\n",
      "epoch: [23/50] trian loss: 0.00091 train acc: 100.00000\n",
      "epoch: [24/50] trian loss: 0.00069 train acc: 100.00000\n",
      "epoch: [25/50] trian loss: 0.00055 train acc: 100.00000\n",
      "epoch: [26/50] trian loss: 0.00049 train acc: 100.00000\n",
      "epoch: [27/50] trian loss: 0.00042 train acc: 100.00000\n",
      "epoch: [28/50] trian loss: 0.00040 train acc: 100.00000\n",
      "epoch: [29/50] trian loss: 0.00034 train acc: 100.00000\n",
      "epoch: [30/50] trian loss: 0.00031 train acc: 100.00000\n",
      "epoch: [31/50] trian loss: 0.00029 train acc: 100.00000\n",
      "epoch: [32/50] trian loss: 0.00025 train acc: 100.00000\n",
      "epoch: [33/50] trian loss: 0.00025 train acc: 100.00000\n",
      "epoch: [34/50] trian loss: 0.00022 train acc: 100.00000\n",
      "epoch: [35/50] trian loss: 0.00020 train acc: 100.00000\n",
      "epoch: [36/50] trian loss: 0.00017 train acc: 100.00000\n",
      "epoch: [37/50] trian loss: 0.00017 train acc: 100.00000\n",
      "epoch: [38/50] trian loss: 0.00016 train acc: 100.00000\n",
      "epoch: [39/50] trian loss: 0.00015 train acc: 100.00000\n",
      "epoch: [40/50] trian loss: 0.00014 train acc: 100.00000\n",
      "epoch: [41/50] trian loss: 0.00012 train acc: 100.00000\n",
      "epoch: [42/50] trian loss: 0.00012 train acc: 100.00000\n",
      "epoch: [43/50] trian loss: 0.00011 train acc: 100.00000\n",
      "epoch: [44/50] trian loss: 0.00010 train acc: 100.00000\n",
      "epoch: [45/50] trian loss: 0.00009 train acc: 100.00000\n",
      "epoch: [46/50] trian loss: 0.00009 train acc: 100.00000\n",
      "epoch: [47/50] trian loss: 0.00008 train acc: 100.00000\n",
      "epoch: [48/50] trian loss: 0.00008 train acc: 100.00000\n",
      "epoch: [49/50] trian loss: 0.00007 train acc: 100.00000\n",
      "epoch: [50/50] trian loss: 0.00006 train acc: 100.00000\n",
      "learning finish\n"
     ]
    }
   ],
   "source": [
    "for epoch in range(epochs):\n",
    "    running_loss = 0.0\n",
    "    running_acc = 0.0\n",
    "    \n",
    "    modelNet.train()\n",
    "    \n",
    "    for i, data in enumerate(train_dataloader, 0):\n",
    "        input_1, labels = data[0].to('cuda'), data[1].to('cuda')\n",
    "        \n",
    "        input = input_1.transpose(1, 3).transpose(2, 3)\n",
    "        \n",
    "        optimizer.zero_grad()\n",
    "        \n",
    "        outputs = modelNet(input)\n",
    "        \n",
    "        loss = criterion(outputs, labels)\n",
    "        loss.backward()\n",
    "        optimizer.step()\n",
    "        \n",
    "        running_loss += loss.item()\n",
    "        running_acc += accuracy(outputs, labels)\n",
    "        \n",
    "        if i % 80 == 79:\n",
    "            print('epoch: [%d/%d] trian loss: %.5f train acc: %.5f' % (\n",
    "                epoch + 1, epochs, running_loss / 80, running_acc / 80))\n",
    "            running_loss = 0.0\n",
    "\n",
    "print(\"learning finish\")"
   ]
  },
  {
   "cell_type": "code",
   "execution_count": 11,
   "metadata": {},
   "outputs": [],
   "source": [
    "torch.save(modelNet.state_dict(), PATH)"
   ]
  },
  {
   "attachments": {},
   "cell_type": "markdown",
   "metadata": {},
   "source": [
    "## Test"
   ]
  },
  {
   "cell_type": "code",
   "execution_count": 12,
   "metadata": {},
   "outputs": [],
   "source": [
    "x_test = np.load('./dataset/x_val.npy').astype(np.float32)\n",
    "y_test = np.load('./dataset/y_val.npy').astype(np.float32)\n",
    "\n",
    "test_transform = transforms.Compose([\n",
    "    transforms.ToTensor()\n",
    "])\n",
    "\n",
    "test_dataset = eyes_dataset(x_test, y_test, transform=test_transform)\n",
    "\n",
    "test_dataloader = DataLoader(test_dataset, batch_size=1, shuffle=False, num_workers=4)\n",
    "\n",
    "modelTest = Net()\n",
    "modelTest.to('cuda')\n",
    "modelTest.load_state_dict(torch.load(PATH))\n",
    "modelTest.eval()\n",
    "\n",
    "count = 0"
   ]
  },
  {
   "cell_type": "code",
   "execution_count": 13,
   "metadata": {},
   "outputs": [
    {
     "name": "stdout",
     "output_type": "stream",
     "text": [
      "average acc: 99.30314 %\n",
      "test finish!\n"
     ]
    }
   ],
   "source": [
    "with torch.no_grad():\n",
    "    total_acc = 0.0\n",
    "    acc = 0.0\n",
    "    for i, test_data in enumerate(test_dataloader, 0):\n",
    "        data, labels = test_data[0].to('cuda'), test_data[1].to('cuda')\n",
    "        \n",
    "        data = data.transpose(1, 3).transpose(2, 3)\n",
    "        \n",
    "        outputs = modelTest(data)\n",
    "        \n",
    "        acc = accuracy(outputs, labels)\n",
    "        total_acc += acc\n",
    "        \n",
    "        count = i\n",
    "    print('average acc: %.5f' % (total_acc/count), '%')\n",
    "    \n",
    "print('test finish!')"
   ]
  },
  {
   "attachments": {},
   "cell_type": "markdown",
   "metadata": {},
   "source": [
    "## Detection"
   ]
  },
  {
   "cell_type": "code",
   "execution_count": 14,
   "metadata": {},
   "outputs": [],
   "source": [
    "import cv2\n",
    "import dlib\n",
    "import numpy as np\n",
    "import torch\n",
    "from imutils import face_utils\n",
    "# from model import Net"
   ]
  },
  {
   "cell_type": "code",
   "execution_count": 15,
   "metadata": {},
   "outputs": [],
   "source": [
    "IMG_SIZE = (34, 26)\n",
    "# PATH = 'weights/train.pth'\n",
    "\n",
    "detector = dlib.get_frontal_face_detector()\n",
    "predictor = dlib.shape_predictor('shape_predictor_68_face_landmarks.dat')\n",
    "\n",
    "modelDetect = Net()\n",
    "modelDetect.load_state_dict(torch.load(PATH))\n",
    "modelDetect.eval()\n",
    "\n",
    "n_count = 0"
   ]
  },
  {
   "cell_type": "code",
   "execution_count": 16,
   "metadata": {},
   "outputs": [],
   "source": [
    "def crop_eye(img, eye_points):\n",
    "    x1, y1 = np.amin(eye_points, axis=0)\n",
    "    x2, y2 = np.amax(eye_points, axis=0)\n",
    "    cx, cy = (x1 + x2) / 2, (y1 + y2) / 2\n",
    "    \n",
    "    w = (x2 - x1) * 1.2\n",
    "    h = w * IMG_SIZE[1] / IMG_SIZE[0]\n",
    "    \n",
    "    margin_x, margin_y = w / 2, h / 2\n",
    "    \n",
    "    min_x, min_y = int(cx - margin_x), int(cy - margin_y)\n",
    "    max_x, max_y = int(cx + margin_x), int(cy + margin_y)\n",
    "    \n",
    "    eye_rect = np.rint([min_x, min_y, max_x, max_y]).astype(np.int)\n",
    "    \n",
    "    eye_img = gray[eye_rect[1]:eye_rect[3], eye_rect[0]:eye_rect[2]]\n",
    "    \n",
    "    return eye_img, eye_rect"
   ]
  },
  {
   "cell_type": "code",
   "execution_count": 17,
   "metadata": {},
   "outputs": [],
   "source": [
    "def predict(pred):\n",
    "    pred = pred.transpose(1,3).transpose(2, 3)\n",
    "    \n",
    "    outputs = modelDetect(pred)\n",
    "    \n",
    "    pred_tag = torch.round(torch.sigmoid(outputs))\n",
    "    \n",
    "    return pred_tag"
   ]
  },
  {
   "cell_type": "code",
   "execution_count": 18,
   "metadata": {},
   "outputs": [
    {
     "ename": "",
     "evalue": "",
     "output_type": "error",
     "traceback": [
      "\u001b[1;31mCanceled future for execute_request message before replies were done"
     ]
    },
    {
     "ename": "",
     "evalue": "",
     "output_type": "error",
     "traceback": [
      "\u001b[1;31mThe Kernel crashed while executing code in the the current cell or a previous cell. Please review the code in the cell(s) to identify a possible cause of the failure. Click <a href='https://aka.ms/vscodeJupyterKernelCrash'>here</a> for more info. View Jupyter <a href='command:jupyter.viewOutput'>log</a> for further details."
     ]
    }
   ],
   "source": [
    "cap = cv2.VideoCapture('mask_video.mp4')\n",
    "\n",
    "while cap.isOpened():\n",
    "    ret, img_ori = cap.read()\n",
    "    \n",
    "    if not ret:\n",
    "        break\n",
    "    \n",
    "    img_ori = cv2.resize(img_ori, dsize=(0,0), fx=0.5, fy=0.5)\n",
    "    \n",
    "    img = img_ori.copy()\n",
    "    gray = cv2.cvtColor(img, cv2.COLOR_BGR2GRAY)\n",
    "    \n",
    "    faces = detector(gray)\n",
    "    \n",
    "    for face in faces:\n",
    "        shapes = predictor(gray, face)\n",
    "        shapes = face_utils.shape_to_np(shapes)\n",
    "        \n",
    "        eye_img_l, eye_rect_l = crop_eye(gray, eye_points=shapes[36:42])\n",
    "        eye_img_r, eye_rect_r = crop_eye(gray, eye_points=shapes[42:48])\n",
    "        \n",
    "        eye_img_l = cv2.resize(eye_img_l.astype('float32'), dsize=IMG_SIZE)\n",
    "        eye_img_r = cv2.resize(eye_img_r.astype('float32'), dsize=IMG_SIZE)\n",
    "        eye_img_r = cv2.flip(eye_img_r, flipCode=1)\n",
    "        \n",
    "        eye_input_l = eye_img_l.copy().reshape((1, IMG_SIZE[1], IMG_SIZE[0], 1)).astype(np.float32)\n",
    "        eye_input_r = eye_img_r.copy().reshape((1, IMG_SIZE[1], IMG_SIZE[0], 1)).astype(np.float32)\n",
    "        \n",
    "        eye_input_l = torch.from_numpy(eye_input_l)\n",
    "        eye_input_r = torch.from_numpy(eye_input_r)\n",
    "        \n",
    "        pred_l = predict(eye_input_l)\n",
    "        pred_r = predict(eye_input_r)\n",
    "        \n",
    "        if pred_l.item() == 0.0 and pred_r.item() == 0.0:\n",
    "            n_count += 1\n",
    "        else:\n",
    "            n_count = 0\n",
    "            \n",
    "        if n_count > 100:\n",
    "            cv2.putText(img, \"Wake up\", (120, 160), cv2.FONT_HERSHEY_SIMPLEX, 1, (255, 255, 255), 2)\n",
    "            \n",
    "    cv2.imshow('result', img)\n",
    "    if cv2.waitKey(1) == ord('q'):\n",
    "        break"
   ]
  },
  {
   "cell_type": "code",
   "execution_count": null,
   "metadata": {},
   "outputs": [],
   "source": []
  }
 ],
 "metadata": {
  "kernelspec": {
   "display_name": "kay",
   "language": "python",
   "name": "kay"
  },
  "language_info": {
   "codemirror_mode": {
    "name": "ipython",
    "version": 3
   },
   "file_extension": ".py",
   "mimetype": "text/x-python",
   "name": "python",
   "nbconvert_exporter": "python",
   "pygments_lexer": "ipython3",
   "version": "3.9.16"
  },
  "orig_nbformat": 4
 },
 "nbformat": 4,
 "nbformat_minor": 2
}
