{
 "cells": [
  {
   "cell_type": "code",
   "execution_count": null,
   "id": "84ed69f4",
   "metadata": {},
   "outputs": [],
   "source": [
    "import numpy as np\n",
    "import cv2 as cv\n",
    "\n",
    "'''\n",
    "OpenCV에서 제공한 XML 포맷의 분류기 로드\n",
    "- frontalface: 정면 얼굴\n",
    "- eye: 눈\n",
    "'''\n",
    "face_cascade = cv.CascadeClassifier('data\\\\haarcascades\\\\haarcascade_frontalface_default.xml')\n",
    "eye_cascade = cv.CascadeClassifier('data\\\\haarcascades\\\\haarcascade_eye.xml')\n",
    "\n",
    "'''\n",
    "얼굴과 눈을 검출할 test image를 불러와서\n",
    "Gray scale로 변경\n",
    "'''\n",
    "img = cv.imread('data\\\\test.jpg')\n",
    "gray = cv.cvtColor(img, cv.COLOR_BGR2GRAY)\n",
    "\n",
    "\n",
    "'''\n",
    "test image에서 얼굴 검출\n",
    "'''\n",
    "faces = face_cascade.detectMultiScale(gray, 1.3, 5)\n",
    "\n",
    "'''\n",
    "얼굴 검출 후 얼굴에 대한 좌표를 받음\n",
    "'''\n",
    "for (x,y,w,h) in faces:\n",
    "\n",
    "    '''\n",
    "    얼굴의 위치를 rectangle로 표시\n",
    "    '''\n",
    "    cv.rectangle(img,(x,y),(x+w,y+h),(255,0,0),2)\n",
    "\n",
    "    '''\n",
    "    ROI: Region of interest (관심영역 설정)\n",
    "    눈 검출을 위해 얼굴 영역을 ROI로 설정\n",
    "    '''\n",
    "    roi_gray = gray[y:y+h, x:x+w]\n",
    "    roi_color = img[y:y+h, x:x+w]\n",
    "\n",
    "    '''\n",
    "    test image에서 눈 검출\n",
    "    '''\n",
    "    eyes = eye_cascade.detectMultiScale(roi_gray)\n",
    "\n",
    "    '''\n",
    "    눈의 위체 좌표를 받음\n",
    "    '''\n",
    "    for (ex,ey,ew,eh) in eyes:\n",
    "        '''\n",
    "        원본 image에 눈의 위치 표시    \n",
    "        '''\n",
    "        cv.rectangle(roi_color,(ex,ey),(ex+ew,ey+eh),(0,255,0),2)\n",
    "\n",
    "'''\n",
    "결과 출력\n",
    "'''\n",
    "cv.imshow('img',img)\n",
    "cv.waitKey(0)\n",
    "\n",
    "cv.destroyAllWindows()"
   ]
  },
  {
   "cell_type": "code",
   "execution_count": null,
   "id": "e8cc5b0a",
   "metadata": {},
   "outputs": [],
   "source": []
  },
  {
   "cell_type": "code",
   "execution_count": null,
   "id": "51746abb",
   "metadata": {},
   "outputs": [],
   "source": []
  },
  {
   "cell_type": "code",
   "execution_count": null,
   "id": "d1502fa4",
   "metadata": {},
   "outputs": [],
   "source": []
  },
  {
   "cell_type": "code",
   "execution_count": null,
   "id": "fa796c48",
   "metadata": {},
   "outputs": [],
   "source": []
  },
  {
   "cell_type": "code",
   "execution_count": null,
   "id": "20146323",
   "metadata": {},
   "outputs": [],
   "source": []
  }
 ],
 "metadata": {
  "kernelspec": {
   "display_name": "ai",
   "language": "python",
   "name": "ai"
  },
  "language_info": {
   "codemirror_mode": {
    "name": "ipython",
    "version": 3
   },
   "file_extension": ".py",
   "mimetype": "text/x-python",
   "name": "python",
   "nbconvert_exporter": "python",
   "pygments_lexer": "ipython3",
   "version": "3.7.15"
  }
 },
 "nbformat": 4,
 "nbformat_minor": 5
}
